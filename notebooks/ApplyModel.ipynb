{
 "cells": [
  {
   "cell_type": "markdown",
   "metadata": {},
   "source": [
    "<h1>Run Enriched Polygons Through Trained OSM Completeness Model</h1>\n",
    "<p>After enriching a collection of 250-m by 250-m grid cells, the output can be run through the trained OSM completeness model to produce predictions of OSM building footprint area.</p>"
   ]
  },
  {
   "cell_type": "code",
   "execution_count": 22,
   "metadata": {},
   "outputs": [],
   "source": [
    "import json\n",
    "import joblib\n",
    "import geopandas as gpd\n",
    "import pandas as pd\n",
    "from shapely.geometry import shape, box, mapping, Point, Polygon"
   ]
  },
  {
   "cell_type": "code",
   "execution_count": 3,
   "metadata": {},
   "outputs": [],
   "source": [
    "#file containing enriched cells\n",
    "with open(r'path_to_input_file','r') as data:\n",
    "    x = json.load(data)"
   ]
  },
  {
   "cell_type": "code",
   "execution_count": 15,
   "metadata": {},
   "outputs": [
    {
     "name": "stdout",
     "output_type": "stream",
     "text": [
      "442361\n"
     ]
    }
   ],
   "source": [
    "#create polygons for geodataframe\n",
    "polygons=[]\n",
    "for feature in x['features']:\n",
    "    g = shape(feature['geometry']).buffer(0)\n",
    "    polygons.append(g)\n",
    "print(len(polygons))"
   ]
  },
  {
   "cell_type": "code",
   "execution_count": 5,
   "metadata": {},
   "outputs": [],
   "source": [
    "def returnFeatureVals(featureString, variable):\n",
    "    return [x['properties'][featureString] for x in variable['features']]"
   ]
  },
  {
   "cell_type": "code",
   "execution_count": 16,
   "metadata": {},
   "outputs": [],
   "source": [
    "applyFeatureDict = {\n",
    "    'ndbi':returnFeatureVals('ndbi', x),\n",
    "    'ndvi':returnFeatureVals('ndvi', x),\n",
    "    'savi':returnFeatureVals('savi', x),\n",
    "    'ui':returnFeatureVals('ui', x),\n",
    "    'viirs':returnFeatureVals('viirs', x),\n",
    "    'slope':returnFeatureVals('slope', x),\n",
    "    'texture':returnFeatureVals('texture', x),\n",
    "    'forest':returnFeatureVals('forest', x),\n",
    "    'popFB':returnFeatureVals('popFB',x),\n",
    "    'popWP':returnFeatureVals('popWP',x),\n",
    "    'popWSF':returnFeatureVals('popWSF',x),\n",
    "    'roads':returnFeatureVals('roads',x),\n",
    "    'nodes':returnFeatureVals('nodes',x),\n",
    "    'area':returnFeatureVals('area',x)\n",
    "}\n",
    "applyDF = pd.DataFrame.from_dict(applyFeatureDict)\n",
    "applyGeoDF = gpd.GeoDataFrame(applyDF,crs = 4326, geometry=polygons)\n",
    "applyGeoDF = applyGeoDF.fillna(0)"
   ]
  },
  {
   "cell_type": "code",
   "execution_count": 17,
   "metadata": {},
   "outputs": [],
   "source": [
    "filename = r'path_to_trained_model\\trained.sav'\n",
    "model = joblib.load(filename)"
   ]
  },
  {
   "cell_type": "code",
   "execution_count": 18,
   "metadata": {},
   "outputs": [],
   "source": [
    "applyFeatureDF = applyGeoDF[['ndbi','ndvi','savi','ui','viirs','slope','texture','forest','popFB','popWP','roads','nodes','popWSF']]\n",
    "applyTargetDF = applyGeoDF['area']"
   ]
  },
  {
   "cell_type": "code",
   "execution_count": 19,
   "metadata": {},
   "outputs": [],
   "source": [
    "y_apply = model.predict(applyFeatureDF)"
   ]
  },
  {
   "cell_type": "code",
   "execution_count": 20,
   "metadata": {},
   "outputs": [],
   "source": [
    "for i,feature in enumerate(x['features']):\n",
    "    area = x['features'][i]['properties']['area']\n",
    "    #erase other properties for smaller output file\n",
    "    feature['properties'] = {}\n",
    "    #predicted OSM building footprint area\n",
    "    feature['properties']['parea'] = y_apply[i]\n",
    "    #actual mapped building footprint area\n",
    "    feature['properties']['builtArea'] = area"
   ]
  },
  {
   "cell_type": "code",
   "execution_count": 21,
   "metadata": {},
   "outputs": [],
   "source": [
    "with open(r'path_to_output\\output.json','w') as f:\n",
    "    json.dump(x,f)"
   ]
  },
  {
   "cell_type": "code",
   "execution_count": null,
   "metadata": {},
   "outputs": [],
   "source": []
  }
 ],
 "metadata": {
  "kernelspec": {
   "display_name": "Python 3",
   "language": "python",
   "name": "python3"
  },
  "language_info": {
   "codemirror_mode": {
    "name": "ipython",
    "version": 3
   },
   "file_extension": ".py",
   "mimetype": "text/x-python",
   "name": "python",
   "nbconvert_exporter": "python",
   "pygments_lexer": "ipython3",
   "version": "3.8.1"
  }
 },
 "nbformat": 4,
 "nbformat_minor": 4
}
