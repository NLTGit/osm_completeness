{
 "cells": [
  {
   "cell_type": "markdown",
   "metadata": {},
   "source": [
    "<h1>Notebook to Make Collections of Cells Over Shapefile Features</h1>\n",
    "<p>Calculating zonal statistics over many polygons using high-resolution datasets is a computationally expensive task. To split the task into chunks, this notebook will create N JSON files containing a collection of polygons over N features in a shapefile layer. After the N files have been created, they can individually be run through the Enrich notebook.</p>"
   ]
  },
  {
   "cell_type": "code",
   "execution_count": null,
   "metadata": {},
   "outputs": [],
   "source": [
    "from osgeo import ogr, osr\n",
    "from shapely import wkt\n",
    "import geopandas as gpd\n",
    "from shapely.geometry import box, Polygon, mapping\n",
    "import math\n",
    "import json"
   ]
  },
  {
   "cell_type": "markdown",
   "metadata": {},
   "source": [
    "<h2>These are all variables that need to be set before running the notebook</h2>"
   ]
  },
  {
   "cell_type": "code",
   "execution_count": null,
   "metadata": {},
   "outputs": [],
   "source": [
    "#shapefile containing polygons to split over\n",
    "shapefilePath = \"path_to_shapefile_containing_features_to_split_over\"\n",
    "\n",
    "#directory to save enriched JSONs to\n",
    "outputDirectory = \"path_to_store_output\\\\\""
   ]
  },
  {
   "cell_type": "code",
   "execution_count": null,
   "metadata": {},
   "outputs": [],
   "source": [
    "#input in latitude/longitude\n",
    "#output: dataframe containing grid cell polygons, also in lat/lon\n",
    "def makeGrid(minx, miny, maxx, maxy, res):\n",
    "    bbox = box(minx, miny, maxx, maxy)\n",
    "    polygons = []\n",
    "    df = gpd.GeoDataFrame({\n",
    "            'geometry': [bbox]\n",
    "        })\n",
    "    df.crs = \"EPSG:4326\"\n",
    "    \n",
    "    avg_longitude = (minx + maxx)/2\n",
    "    utm_zone = int(math.floor((avg_longitude + 180) / 6.) + 1)\n",
    "    utm_crs = f'+proj=utm +zone={utm_zone} +ellps=WGS84 +datum=WGS84 +units=m +no_defs'\n",
    "   \n",
    "    # project the GeoDataFrame to the UTM CRS\n",
    "    df_projected = df.to_crs(utm_crs)\n",
    "    \n",
    "    totalBounds = df_projected.total_bounds\n",
    "   \n",
    "    xExtent = totalBounds[2] - totalBounds[0]\n",
    "    yExtent = totalBounds[3] - totalBounds[1]\n",
    "    nx = math.ceil(xExtent/res)\n",
    "    ny = math.ceil(yExtent/res)\n",
    "    xmin,ymin,xmax,ymax =  totalBounds\n",
    "    for i in range(nx):\n",
    "        yTop = ymax\n",
    "        for j in range(ny):\n",
    "            polygons.append(Polygon([(xmin, yTop), (xmin + res, yTop), (xmin + res, yTop - res), (xmin, yTop - res)]))   \n",
    "            yTop = yTop - res\n",
    "        xmin = xmin + res\n",
    "    grid = gpd.GeoDataFrame({'geometry':polygons})\n",
    "    grid.crs = df_projected.crs\n",
    "    grid_project = grid.to_crs(4326)\n",
    "    return grid_project"
   ]
  },
  {
   "cell_type": "code",
   "execution_count": null,
   "metadata": {},
   "outputs": [],
   "source": [
    "#open shapefile to split over. Coordinates should be WGS84 4326\n",
    "shapeFile = ogr.Open(shapefilePath)\n",
    "shapes = shapeFile.GetLayer(0)\n",
    "\n",
    "#get shapefile projection\n",
    "spatialRef = shapes.GetSpatialRef()\n",
    "\n",
    "forGeo = []\n",
    "#loop through features in shapefile\n",
    "for i in range(shapes.GetFeatureCount()):\n",
    "    feature = shapes.GetFeature(i)\n",
    "    geom = feature.GetGeometryRef()\n",
    "    \n",
    "    #envelope is the ogr name for bounding box \n",
    "    #https://gdal.org/python/osgeo.ogr.Geometry-class.html\n",
    "    bbox = geom.GetEnvelope()\n",
    "    \n",
    "    #def makeGrid(minx, miny, maxx, maxy, res)\n",
    "    thisGrid = makeGrid(bbox[0],bbox[2],bbox[1],bbox[3],250)\n",
    "\n",
    "    #get in shapely format\n",
    "    geomFormat = wkt.loads(geom.ExportToWkt())\n",
    "    precise_matches = thisGrid[thisGrid.intersects(geomFormat)]\n",
    "    data = mapping(precise_matches.geometry)\n",
    "    #don't need bbox for anything so delete it to reduce output file size\n",
    "    del data['bbox']\n",
    "    for feature in data['features']:\n",
    "        del feature['bbox']\n",
    "        \n",
    "    with open(outputDirectory+\"chunk\"+str(i)+\".json\", \"w\") as f:\n",
    "        json.dump(data,f)\n",
    "    "
   ]
  }
 ],
 "metadata": {
  "kernelspec": {
   "display_name": "Python 3",
   "language": "python",
   "name": "python3"
  },
  "language_info": {
   "codemirror_mode": {
    "name": "ipython",
    "version": 3
   },
   "file_extension": ".py",
   "mimetype": "text/x-python",
   "name": "python",
   "nbconvert_exporter": "python",
   "pygments_lexer": "ipython3",
   "version": "3.8.1"
  }
 },
 "nbformat": 4,
 "nbformat_minor": 4
}
